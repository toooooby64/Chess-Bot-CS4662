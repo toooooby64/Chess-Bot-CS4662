{
 "cells": [
  {
   "cell_type": "code",
   "execution_count": 39,
   "metadata": {},
   "outputs": [],
   "source": [
    "import numpy as np\n",
    "import torch\n",
    "import pandas as pd\n",
    "import chess\n",
    "import re\n",
    "import gc"
   ]
  },
  {
   "cell_type": "code",
   "execution_count": 40,
   "metadata": {},
   "outputs": [
    {
     "name": "stdout",
     "output_type": "stream",
     "text": [
      "112029\n",
      "15303\n"
     ]
    }
   ],
   "source": [
    "chess_games_raw = pd.read_csv('chess-games/chess_games.csv', usecols=['AN', 'WhiteElo'])\n",
    "print(chess_games_raw.shape[0])\n",
    "chess_games = chess_games_raw[chess_games_raw['WhiteElo'] > 2000]\n",
    "del chess_games_raw\n",
    "gc.collect()\n",
    "\n",
    "chess_games = chess_games[['AN']]\n",
    "chess_games = chess_games[~chess_games['AN'].str.contains('{')]\n",
    "chess_games = chess_games[chess_games['AN'].str.len() > 20]\n",
    "print(chess_games.shape[0])\n"
   ]
  },
  {
   "cell_type": "code",
   "execution_count": 28,
   "metadata": {},
   "outputs": [],
   "source": [
    "letterToNumber = {'a':0, 'b':1, 'c':2, 'd':3, 'e':4, 'f':5, 'g':6, 'h':7}\n",
    "numberToLetter = {0:'a', 1:'b', 2:'c', 3:'d', 4:'e', 5:'f', 6:'g', 7:'h'}"
   ]
  },
  {
   "cell_type": "code",
   "execution_count": 12,
   "metadata": {},
   "outputs": [],
   "source": [
    "def createPieceRepresentation(board):\n",
    "    s = str(board)\n",
    "    s = re.sub(f'[^{type}{type.upper()} \\n]', '.', s)\n",
    "    s = re.sub(f'{type}', -1,s)\n",
    "    s = re.sub(f'{type.upper()}', 1,s)\n",
    "    s = re.sub('\\.', '0', s)\n",
    "\n",
    "    board_material = []\n",
    "\n",
    "    for row in s.split('\\n'):\n",
    "        row = row.split(' ')\n",
    "        row = [int(x) for x in row]\n",
    "        board_material.append(row)\n",
    "    return np.array(board_material)"
   ]
  },
  {
   "cell_type": "code",
   "execution_count": 13,
   "metadata": {},
   "outputs": [],
   "source": [
    "def boardRepresation(board):\n",
    "    pieces = ['p', 'r', 'n', 'b', 'q', 'k']\n",
    "    layer = []\n",
    "    for piece in pieces:\n",
    "        layer.append(createPieceRepresentation(board, piece))\n",
    "    board_rep = np.stack(layer)\n",
    "    return board_rep"
   ]
  },
  {
   "cell_type": "code",
   "execution_count": 14,
   "metadata": {},
   "outputs": [],
   "source": [
    "def move_represation(move, board):\n",
    "    board.push_san(move).uci()\n",
    "    move = str(board.pop())\n",
    "\n",
    "    from_output_layer = np.zeros((8,8))\n",
    "    from_row = 8-int(move[1])\n",
    "    from_col = letterToNumber[move[0]]\n",
    "    from_output_layer[from_row, from_col] = 1\n",
    "\n",
    "    to_output_layer = np.zeros((8,8))\n",
    "    to_row = 8-int(move[3])\n",
    "    to_col = letterToNumber[move[2]]\n",
    "    to_output_layer[to_row, to_col] = 1\n",
    "\n",
    "    return np.stack([from_output_layer, to_output_layer])"
   ]
  },
  {
   "cell_type": "code",
   "execution_count": 15,
   "metadata": {},
   "outputs": [],
   "source": [
    "def create_move_list(s):\n",
    "    return re.sub('\\d*\\.', '', s).split(' ')[:-1]"
   ]
  }
 ],
 "metadata": {
  "kernelspec": {
   "display_name": "base",
   "language": "python",
   "name": "python3"
  },
  "language_info": {
   "codemirror_mode": {
    "name": "ipython",
    "version": 3
   },
   "file_extension": ".py",
   "mimetype": "text/x-python",
   "name": "python",
   "nbconvert_exporter": "python",
   "pygments_lexer": "ipython3",
   "version": "3.11.5"
  }
 },
 "nbformat": 4,
 "nbformat_minor": 2
}
